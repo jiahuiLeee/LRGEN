{
 "cells": [
  {
   "cell_type": "code",
   "execution_count": 7,
   "metadata": {},
   "outputs": [],
   "source": [
    "from zhipuai import ZhipuAI\n",
    "import os\n",
    "import json"
   ]
  },
  {
   "cell_type": "code",
   "execution_count": 8,
   "metadata": {},
   "outputs": [],
   "source": [
    "client = ZhipuAI(api_key=\"ad98e70972454b8382d65af986104ec2.VEaIf4ot0l3c2Y00\") # 请填写您自己的APIKey"
   ]
  },
  {
   "cell_type": "markdown",
   "metadata": {},
   "source": [
    "# 上传任务"
   ]
  },
  {
   "cell_type": "code",
   "execution_count": 9,
   "metadata": {},
   "outputs": [
    {
     "name": "stdout",
     "output_type": "stream",
     "text": [
      "1747369435_33b9a6d5aabf409abb3cc77c67236cda\n",
      "Batch(id='batch_1923232925865877504', completion_window=None, created_at=1747369436124, endpoint='/v4/chat/completions', input_file_id='1747369435_33b9a6d5aabf409abb3cc77c67236cda', object='batch', status='validating', cancelled_at=None, cancelling_at=None, completed_at=None, error_file_id=None, errors=None, expired_at=None, expires_at=None, failed_at=None, finalizing_at=None, in_progress_at=None, metadata={'description': '2024_retry-3.jsonl'}, output_file_id=None, request_counts=BatchRequestCounts(completed=None, failed=None, total=12828))\n",
      "1747369470_8de60e135f8342ccb3021c6ac366a5c2\n",
      "Batch(id='batch_1923233074704678912', completion_window=None, created_at=1747369471609, endpoint='/v4/chat/completions', input_file_id='1747369470_8de60e135f8342ccb3021c6ac366a5c2', object='batch', status='validating', cancelled_at=None, cancelling_at=None, completed_at=None, error_file_id=None, errors=None, expired_at=None, expires_at=None, failed_at=None, finalizing_at=None, in_progress_at=None, metadata={'description': '2023_retry-5.jsonl'}, output_file_id=None, request_counts=BatchRequestCounts(completed=None, failed=None, total=13165))\n",
      "1747369491_af627d93b596492e811e09d020dc542e\n",
      "Batch(id='batch_1923233161447350272', completion_window=None, created_at=1747369492290, endpoint='/v4/chat/completions', input_file_id='1747369491_af627d93b596492e811e09d020dc542e', object='batch', status='validating', cancelled_at=None, cancelling_at=None, completed_at=None, error_file_id=None, errors=None, expired_at=None, expires_at=None, failed_at=None, finalizing_at=None, in_progress_at=None, metadata={'description': '2023_retry-6.jsonl'}, output_file_id=None, request_counts=BatchRequestCounts(completed=None, failed=None, total=7913))\n",
      "1747369526_5d8aa4d07a204f219362bbaaaf957392\n",
      "Batch(id='batch_1923233308176416768', completion_window=None, created_at=1747369527273, endpoint='/v4/chat/completions', input_file_id='1747369526_5d8aa4d07a204f219362bbaaaf957392', object='batch', status='validating', cancelled_at=None, cancelling_at=None, completed_at=None, error_file_id=None, errors=None, expired_at=None, expires_at=None, failed_at=None, finalizing_at=None, in_progress_at=None, metadata={'description': '2023_retry-1.jsonl'}, output_file_id=None, request_counts=BatchRequestCounts(completed=None, failed=None, total=12581))\n",
      "1747369536_42fe8f94b94942ac83d53e0e8fe94ace\n",
      "Batch(id='batch_1923233346880802816', completion_window=None, created_at=1747369536501, endpoint='/v4/chat/completions', input_file_id='1747369536_42fe8f94b94942ac83d53e0e8fe94ace', object='batch', status='validating', cancelled_at=None, cancelling_at=None, completed_at=None, error_file_id=None, errors=None, expired_at=None, expires_at=None, failed_at=None, finalizing_at=None, in_progress_at=None, metadata={'description': '2024_retry-4.jsonl'}, output_file_id=None, request_counts=BatchRequestCounts(completed=None, failed=None, total=3564))\n",
      "1747369570_5be4df1f4513486ba6eae68c01bce531\n",
      "Batch(id='batch_1923233492239790080', completion_window=None, created_at=1747369571157, endpoint='/v4/chat/completions', input_file_id='1747369570_5be4df1f4513486ba6eae68c01bce531', object='batch', status='validating', cancelled_at=None, cancelling_at=None, completed_at=None, error_file_id=None, errors=None, expired_at=None, expires_at=None, failed_at=None, finalizing_at=None, in_progress_at=None, metadata={'description': '2023_retry-4.jsonl'}, output_file_id=None, request_counts=BatchRequestCounts(completed=None, failed=None, total=12539))\n",
      "1747369606_b42f2be142c3409fba93380ea754f969\n",
      "Batch(id='batch_1923233640466227200', completion_window=None, created_at=1747369606497, endpoint='/v4/chat/completions', input_file_id='1747369606_b42f2be142c3409fba93380ea754f969', object='batch', status='validating', cancelled_at=None, cancelling_at=None, completed_at=None, error_file_id=None, errors=None, expired_at=None, expires_at=None, failed_at=None, finalizing_at=None, in_progress_at=None, metadata={'description': '2023_retry-3.jsonl'}, output_file_id=None, request_counts=BatchRequestCounts(completed=None, failed=None, total=12991))\n",
      "1747369641_47ab0359fc944cd99edb78d33c9dbb9c\n",
      "Batch(id='batch_1923233789926322176', completion_window=None, created_at=1747369642131, endpoint='/v4/chat/completions', input_file_id='1747369641_47ab0359fc944cd99edb78d33c9dbb9c', object='batch', status='validating', cancelled_at=None, cancelling_at=None, completed_at=None, error_file_id=None, errors=None, expired_at=None, expires_at=None, failed_at=None, finalizing_at=None, in_progress_at=None, metadata={'description': '2024_retry-2.jsonl'}, output_file_id=None, request_counts=BatchRequestCounts(completed=None, failed=None, total=12828))\n",
      "1747369675_5570526fb86747ac9419a21480217c7b\n",
      "Batch(id='batch_1923233932695445504', completion_window=None, created_at=1747369676170, endpoint='/v4/chat/completions', input_file_id='1747369675_5570526fb86747ac9419a21480217c7b', object='batch', status='validating', cancelled_at=None, cancelling_at=None, completed_at=None, error_file_id=None, errors=None, expired_at=None, expires_at=None, failed_at=None, finalizing_at=None, in_progress_at=None, metadata={'description': '2023_retry-2.jsonl'}, output_file_id=None, request_counts=BatchRequestCounts(completed=None, failed=None, total=12666))\n",
      "1747369710_67b7e68295dd44efb476e3468e0b1fe3\n",
      "Batch(id='batch_1923234077932134400', completion_window=None, created_at=1747369710798, endpoint='/v4/chat/completions', input_file_id='1747369710_67b7e68295dd44efb476e3468e0b1fe3', object='batch', status='validating', cancelled_at=None, cancelling_at=None, completed_at=None, error_file_id=None, errors=None, expired_at=None, expires_at=None, failed_at=None, finalizing_at=None, in_progress_at=None, metadata={'description': '2024_retry-1.jsonl'}, output_file_id=None, request_counts=BatchRequestCounts(completed=None, failed=None, total=12496))\n"
     ]
    }
   ],
   "source": [
    "model = \"glm-4-air\"\n",
    "# root_path = f\"/home/ljh/RGEN_A/original_data/CRG/news/request/{model}/\"\n",
    "root_path = f\"/home/ljh/RGEN_A/original_data/CRG/news/request/retry_files\"\n",
    "file_list = os.listdir(root_path)\n",
    "file_2_batch_id = {}\n",
    "\n",
    "# for file in file_list:\n",
    "for file in file_list:\n",
    "    # 上传文件\n",
    "    result = client.files.create(\n",
    "        file=open(os.path.join(root_path, file), \"rb\"),\n",
    "        purpose=\"batch\"\n",
    "    )\n",
    "    print(result.id)\n",
    "    # 创建任务\n",
    "    create = client.batches.create(\n",
    "        input_file_id=result.id,\n",
    "        endpoint=\"/v4/chat/completions\", \n",
    "        auto_delete_input_file=True,\n",
    "        metadata={\n",
    "            \"description\": file\n",
    "        }\n",
    "    )\n",
    "    print(create)\n",
    "    file_2_batch_id[file] = create.id\n",
    "\n",
    "# 将字典转换为JSON字符串并保存到文件\n",
    "with open(f\"retry_file_2_batch_id_{model}.json\", 'w', encoding='utf-8') as mapping_file:\n",
    "    json.dump(file_2_batch_id, mapping_file, ensure_ascii=False, indent=4)\n",
    "\n",
    "    # \"2023_request-5.jsonl\": \"batch_1922989194516504576\",\n",
    "    # \"2023_request-6.jsonl\": \"batch_1922989417406013440\",\n",
    "    # \"2023_request-1.jsonl\": \"batch_1922989788496138240\",\n",
    "    # \"2023_request-3.jsonl\": \"batch_1922990157131030528\",\n",
    "    # \"2023_request-4.jsonl\": \"batch_1922990526622990336\",\n",
    "    # \"2023_request-2.jsonl\": \"batch_1922990897671188480\""
   ]
  },
  {
   "cell_type": "markdown",
   "metadata": {},
   "source": [
    "# 下载数据"
   ]
  },
  {
   "cell_type": "code",
   "execution_count": null,
   "metadata": {},
   "outputs": [
    {
     "name": "stderr",
     "output_type": "stream",
     "text": [
      "<>:26: SyntaxWarning: \"is not\" with a literal. Did you mean \"!=\"?\n",
      "<>:31: SyntaxWarning: \"is not\" with a literal. Did you mean \"!=\"?\n",
      "<>:26: SyntaxWarning: \"is not\" with a literal. Did you mean \"!=\"?\n",
      "<>:31: SyntaxWarning: \"is not\" with a literal. Did you mean \"!=\"?\n",
      "/tmp/ipykernel_25063/2769928799.py:26: SyntaxWarning: \"is not\" with a literal. Did you mean \"!=\"?\n",
      "  if right_file_id is not '':\n",
      "/tmp/ipykernel_25063/2769928799.py:31: SyntaxWarning: \"is not\" with a literal. Did you mean \"!=\"?\n",
      "  if err_file_id is not '':\n"
     ]
    },
    {
     "name": "stdout",
     "output_type": "stream",
     "text": [
      "2024_retry-3.jsonl\n",
      "right_file_id: 1747373598_faf86a6ed2934919a545b25ebb929037\n",
      "err_file_id: 1747373598_4009c996de214a59a16d42854d74cb32\n",
      "2023_retry-5.jsonl\n",
      "right_file_id: 1747373613_a1b7a1793f8b46fb8194b63b76e67fe8\n",
      "err_file_id: 1747373613_a9b10ecbf6c8490c961c247fc4734a07\n",
      "2023_retry-6.jsonl\n",
      "right_file_id: 1747373615_ce6023474ba041d083a89c8d0080c746\n",
      "2023_retry-1.jsonl\n",
      "right_file_id: 1747373629_ba03e083008045b79a77655525731b47\n",
      "2024_retry-4.jsonl\n",
      "right_file_id: 1747373630_b71e81608e7e487cadd0dfc7b4cf5b94\n",
      "2023_retry-4.jsonl\n",
      "right_file_id: 1747373645_10b83f7bf90247ec9e4ca83823a3be33\n",
      "err_file_id: 1747373645_69f94ca9b0854fe6a9374a318cc689cb\n",
      "2023_retry-3.jsonl\n",
      "right_file_id: 1747373661_53da16df9bc9473bad5ad0b63fac2ed6\n",
      "err_file_id: 1747373662_d01ed2f8ab094a67818712eb9f27d7e5\n",
      "2024_retry-2.jsonl\n",
      "right_file_id: 1747373677_25178ff191c54d01b1b6435e8b698173\n",
      "err_file_id: 1747373677_0a0b394e4ab943818ad81835e6d99cd7\n",
      "2023_retry-2.jsonl\n",
      "right_file_id: 1747373692_53737c4e8b9a4dfd8a2613e9cb9866c5\n",
      "err_file_id: 1747373692_6ea000047e78456287dede05ee8c27a4\n",
      "2024_retry-1.jsonl\n",
      "right_file_id: 1747373707_715f3e784a8c4461a67ec7cd874b0310\n",
      "err_file_id: 1747373707_b57cb0ac8e1c41909fef9bba05e138fc\n"
     ]
    }
   ],
   "source": [
    "import re\n",
    "import os\n",
    "import json\n",
    "\n",
    "os.makedirs(f\"news/response/glm-4-air\", exist_ok=True)\n",
    "\n",
    "right_path = f\"news/response/glm-4-air-retry/right\"\n",
    "err_path = f\"news/response/glm-4-air-retry/error\"\n",
    "os.makedirs(right_path, exist_ok=True)\n",
    "os.makedirs(err_path, exist_ok=True)\n",
    "\n",
    "model = \"glm-4-air\"\n",
    "# 读取文件并解析为字典\n",
    "with open(f\"retry_file_2_batch_id_{model}.json\", 'r', encoding='utf-8') as mapping_file:\n",
    "    file_2_batch_id = json.load(mapping_file)\n",
    "batch_id_list = list(file_2_batch_id.values())\n",
    "for batch_id in batch_id_list:\n",
    "    batch_job = client.batches.retrieve(batch_id)\n",
    "    right_file_id = batch_job.output_file_id\n",
    "    err_file_id = batch_job.error_file_id\n",
    "    description = batch_job.metadata['description']\n",
    "    # file_name = description.replace(\"request\", \"response\")\n",
    "    file_name = description.replace(\"retry\", \"retry_response\")\n",
    "    print(description)\n",
    "\n",
    "    if right_file_id != '':\n",
    "        print(f\"right_file_id: {right_file_id}\")\n",
    "        right_content = client.files.content(right_file_id)\n",
    "        right_content.write_to_file(os.path.join(right_path, file_name))\n",
    "\n",
    "    if err_file_id is not '':\n",
    "        print(f\"err_file_id: {err_file_id}\")\n",
    "        err_content = client.files.content(err_file_id)\n",
    "        err_content.write_to_file(os.path.join(err_path, file_name))"
   ]
  },
  {
   "cell_type": "code",
   "execution_count": 11,
   "metadata": {},
   "outputs": [
    {
     "data": {
      "text/plain": [
       "False"
      ]
     },
     "execution_count": 11,
     "metadata": {},
     "output_type": "execute_result"
    }
   ],
   "source": [
    "'' == None"
   ]
  },
  {
   "cell_type": "code",
   "execution_count": 2,
   "metadata": {},
   "outputs": [
    {
     "name": "stdout",
     "output_type": "stream",
     "text": [
      "合并完成：merged_2023.jsonl 与 merged_2024.jsonl\n"
     ]
    }
   ],
   "source": [
    "# 出现失败的情况进行重试\n",
    "import os\n",
    "import glob\n",
    "\n",
    "# 设置目录路径\n",
    "base_dir = \"/home/ljh/RGEN_A/original_data/CRG/news/request/glm-4-air\"\n",
    "\n",
    "# 获取2023和2024的所有jsonl文件\n",
    "files_2023 = sorted(glob.glob(os.path.join(base_dir, \"2023_request-*.jsonl\")))\n",
    "files_2024 = sorted(glob.glob(os.path.join(base_dir, \"2024_request-*.jsonl\")))\n",
    "\n",
    "# 合并函数\n",
    "def merge_jsonl_files(file_list, output_path):\n",
    "    with open(output_path, 'w', encoding='utf-8') as outfile:\n",
    "        for file in file_list:\n",
    "            with open(file, 'r', encoding='utf-8') as infile:\n",
    "                for line in infile:\n",
    "                    outfile.write(line)\n",
    "\n",
    "# 合并并输出\n",
    "merge_jsonl_files(files_2023, os.path.join(base_dir, \"merged_2023.jsonl\"))\n",
    "merge_jsonl_files(files_2024, os.path.join(base_dir, \"merged_2024.jsonl\"))\n",
    "\n",
    "print(\"合并完成：merged_2023.jsonl 与 merged_2024.jsonl\")\n"
   ]
  },
  {
   "cell_type": "code",
   "execution_count": 5,
   "metadata": {},
   "outputs": [
    {
     "name": "stdout",
     "output_type": "stream",
     "text": [
      "✔ 已写入: /home/ljh/RGEN_A/original_data/CRG/news/request/retry_files/2023_retry-1.jsonl（共 12581 行）\n",
      "✔ 已写入: /home/ljh/RGEN_A/original_data/CRG/news/request/retry_files/2023_retry-2.jsonl（共 12666 行）\n",
      "✔ 已写入: /home/ljh/RGEN_A/original_data/CRG/news/request/retry_files/2023_retry-3.jsonl（共 12991 行）\n",
      "✔ 已写入: /home/ljh/RGEN_A/original_data/CRG/news/request/retry_files/2023_retry-4.jsonl（共 12539 行）\n",
      "✔ 已写入: /home/ljh/RGEN_A/original_data/CRG/news/request/retry_files/2023_retry-5.jsonl（共 13165 行）\n",
      "✔ 已写入: /home/ljh/RGEN_A/original_data/CRG/news/request/retry_files/2023_retry-6.jsonl（共 7913 行）\n",
      "✔ 已写入: /home/ljh/RGEN_A/original_data/CRG/news/request/retry_files/2024_retry-1.jsonl（共 12496 行）\n",
      "✔ 已写入: /home/ljh/RGEN_A/original_data/CRG/news/request/retry_files/2024_retry-2.jsonl（共 12828 行）\n",
      "✔ 已写入: /home/ljh/RGEN_A/original_data/CRG/news/request/retry_files/2024_retry-3.jsonl（共 12828 行）\n",
      "✔ 已写入: /home/ljh/RGEN_A/original_data/CRG/news/request/retry_files/2024_retry-4.jsonl（共 3564 行）\n"
     ]
    }
   ],
   "source": [
    "import os\n",
    "import json\n",
    "import glob\n",
    "\n",
    "# 目录配置\n",
    "error_dir = \"/home/ljh/RGEN_A/original_data/CRG/news/response/glm-4-air/error\"\n",
    "merged_2023_path = \"/home/ljh/RGEN_A/original_data/CRG/news/request/glm-4-air/merged_2023.jsonl\"\n",
    "merged_2024_path = \"/home/ljh/RGEN_A/original_data/CRG/news/request/glm-4-air/merged_2024.jsonl\"\n",
    "output_dir = \"/home/ljh/RGEN_A/original_data/CRG/news/request/retry_files\"\n",
    "os.makedirs(output_dir, exist_ok=True)\n",
    "\n",
    "# 读取合并文件（按行存储）\n",
    "with open(merged_2023_path, \"r\", encoding=\"utf-8\") as f:\n",
    "    merged_2023 = f.readlines()\n",
    "\n",
    "with open(merged_2024_path, \"r\", encoding=\"utf-8\") as f:\n",
    "    merged_2024 = f.readlines()\n",
    "\n",
    "# 遍历 error 目录中的所有错误文件\n",
    "error_files = sorted(glob.glob(os.path.join(error_dir, \"*.jsonl\")))\n",
    "\n",
    "for error_file in error_files:\n",
    "    year = \"2023\" if \"2023\" in error_file else \"2024\"\n",
    "    output_lines = []\n",
    "    with open(error_file, \"r\", encoding=\"utf-8\") as ef:\n",
    "        for line in ef:\n",
    "            try:\n",
    "                data = json.loads(line)\n",
    "                custom_id = data.get(\"custom_id\", \"\")\n",
    "                if custom_id.startswith(\"request-\"):\n",
    "                    idx = int(custom_id.replace(\"request-\", \"\"))\n",
    "                    if year == \"2023\" and idx < len(merged_2023):\n",
    "                        output_lines.append(merged_2023[idx])\n",
    "                    elif year == \"2024\" and idx < len(merged_2024):\n",
    "                        output_lines.append(merged_2024[idx])\n",
    "            except Exception as e:\n",
    "                print(f\"解析失败行时出错: {e}\")\n",
    "\n",
    "    # 构造输出文件名\n",
    "    base_name = os.path.basename(error_file).replace(\"response\", \"retry\")\n",
    "    output_path = os.path.join(output_dir, base_name)\n",
    "    with open(output_path, \"w\", encoding=\"utf-8\") as outf:\n",
    "        outf.writelines(output_lines)\n",
    "\n",
    "    print(f\"✔ 已写入: {output_path}（共 {len(output_lines)} 行）\")\n"
   ]
  }
 ],
 "metadata": {
  "kernelspec": {
   "display_name": "Python 3",
   "language": "python",
   "name": "python3"
  },
  "language_info": {
   "codemirror_mode": {
    "name": "ipython",
    "version": 3
   },
   "file_extension": ".py",
   "mimetype": "text/x-python",
   "name": "python",
   "nbconvert_exporter": "python",
   "pygments_lexer": "ipython3",
   "version": "3.9.19"
  }
 },
 "nbformat": 4,
 "nbformat_minor": 2
}
